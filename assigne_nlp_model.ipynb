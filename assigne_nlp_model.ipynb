{
  "nbformat": 4,
  "nbformat_minor": 0,
  "metadata": {
    "colab": {
      "name": "assigne_nlp_model.ipynb",
      "provenance": [],
      "collapsed_sections": [],
      "toc_visible": true
    },
    "kernelspec": {
      "name": "python3",
      "display_name": "Python 3"
    },
    "language_info": {
      "name": "python"
    },
    "accelerator": "GPU"
  },
  "cells": [
    {
      "cell_type": "markdown",
      "metadata": {
        "id": "tiFrYZjvSNf_"
      },
      "source": [
        "## Импорты"
      ]
    },
    {
      "cell_type": "code",
      "metadata": {
        "id": "OE0Pvc4Rg8bm",
        "colab": {
          "base_uri": "https://localhost:8080/"
        },
        "outputId": "f796e113-81a8-4693-a45b-bf52dbf91846"
      },
      "source": [
        "!pip install livelossplot\n",
        "!pip install pymorphy2\n",
        "\n",
        "import numpy as np\n",
        "import pandas as pd\n",
        "\n",
        "from sklearn.preprocessing import LabelEncoder\n",
        "from sklearn.model_selection import train_test_split\n",
        "from sklearn.metrics import confusion_matrix, accuracy_score\n",
        "\n",
        "import tensorflow as tf\n",
        "from livelossplot.inputs.tf_keras import PlotLossesCallback\n",
        "print(tf.__version__)\n",
        "\n",
        "import pickle\n",
        "import pymorphy2\n",
        "import ast\n",
        "\n",
        "import matplotlib.pyplot as plt\n",
        "import seaborn as sns\n",
        "sns.set()\n",
        "plt.style.use('ggplot')\n",
        "plt.rcParams['figure.figsize'] = (8,6)\n",
        "\n",
        "file_path = '/content/drive/MyDrive/Colab Notebooks/Korus/nlp_tasks/find_assignee/data/'"
      ],
      "execution_count": null,
      "outputs": [
        {
          "output_type": "stream",
          "name": "stdout",
          "text": [
            "Collecting livelossplot\n",
            "  Downloading livelossplot-0.5.4-py3-none-any.whl (22 kB)\n",
            "Requirement already satisfied: bokeh in /usr/local/lib/python3.7/dist-packages (from livelossplot) (2.3.3)\n",
            "Requirement already satisfied: matplotlib in /usr/local/lib/python3.7/dist-packages (from livelossplot) (3.2.2)\n",
            "Requirement already satisfied: ipython in /usr/local/lib/python3.7/dist-packages (from livelossplot) (5.5.0)\n",
            "Requirement already satisfied: pillow>=7.1.0 in /usr/local/lib/python3.7/dist-packages (from bokeh->livelossplot) (7.1.2)\n",
            "Requirement already satisfied: packaging>=16.8 in /usr/local/lib/python3.7/dist-packages (from bokeh->livelossplot) (21.2)\n",
            "Requirement already satisfied: tornado>=5.1 in /usr/local/lib/python3.7/dist-packages (from bokeh->livelossplot) (5.1.1)\n",
            "Requirement already satisfied: python-dateutil>=2.1 in /usr/local/lib/python3.7/dist-packages (from bokeh->livelossplot) (2.8.2)\n",
            "Requirement already satisfied: PyYAML>=3.10 in /usr/local/lib/python3.7/dist-packages (from bokeh->livelossplot) (3.13)\n",
            "Requirement already satisfied: numpy>=1.11.3 in /usr/local/lib/python3.7/dist-packages (from bokeh->livelossplot) (1.19.5)\n",
            "Requirement already satisfied: typing-extensions>=3.7.4 in /usr/local/lib/python3.7/dist-packages (from bokeh->livelossplot) (3.10.0.2)\n",
            "Requirement already satisfied: Jinja2>=2.9 in /usr/local/lib/python3.7/dist-packages (from bokeh->livelossplot) (2.11.3)\n",
            "Requirement already satisfied: MarkupSafe>=0.23 in /usr/local/lib/python3.7/dist-packages (from Jinja2>=2.9->bokeh->livelossplot) (2.0.1)\n",
            "Requirement already satisfied: pyparsing<3,>=2.0.2 in /usr/local/lib/python3.7/dist-packages (from packaging>=16.8->bokeh->livelossplot) (2.4.7)\n",
            "Requirement already satisfied: six>=1.5 in /usr/local/lib/python3.7/dist-packages (from python-dateutil>=2.1->bokeh->livelossplot) (1.15.0)\n",
            "Requirement already satisfied: pickleshare in /usr/local/lib/python3.7/dist-packages (from ipython->livelossplot) (0.7.5)\n",
            "Requirement already satisfied: simplegeneric>0.8 in /usr/local/lib/python3.7/dist-packages (from ipython->livelossplot) (0.8.1)\n",
            "Requirement already satisfied: decorator in /usr/local/lib/python3.7/dist-packages (from ipython->livelossplot) (4.4.2)\n",
            "Requirement already satisfied: pygments in /usr/local/lib/python3.7/dist-packages (from ipython->livelossplot) (2.6.1)\n",
            "Requirement already satisfied: setuptools>=18.5 in /usr/local/lib/python3.7/dist-packages (from ipython->livelossplot) (57.4.0)\n",
            "Requirement already satisfied: traitlets>=4.2 in /usr/local/lib/python3.7/dist-packages (from ipython->livelossplot) (5.1.1)\n",
            "Requirement already satisfied: prompt-toolkit<2.0.0,>=1.0.4 in /usr/local/lib/python3.7/dist-packages (from ipython->livelossplot) (1.0.18)\n",
            "Requirement already satisfied: pexpect in /usr/local/lib/python3.7/dist-packages (from ipython->livelossplot) (4.8.0)\n",
            "Requirement already satisfied: wcwidth in /usr/local/lib/python3.7/dist-packages (from prompt-toolkit<2.0.0,>=1.0.4->ipython->livelossplot) (0.2.5)\n",
            "Requirement already satisfied: kiwisolver>=1.0.1 in /usr/local/lib/python3.7/dist-packages (from matplotlib->livelossplot) (1.3.2)\n",
            "Requirement already satisfied: cycler>=0.10 in /usr/local/lib/python3.7/dist-packages (from matplotlib->livelossplot) (0.11.0)\n",
            "Requirement already satisfied: ptyprocess>=0.5 in /usr/local/lib/python3.7/dist-packages (from pexpect->ipython->livelossplot) (0.7.0)\n",
            "Installing collected packages: livelossplot\n",
            "Successfully installed livelossplot-0.5.4\n",
            "Collecting pymorphy2\n",
            "  Downloading pymorphy2-0.9.1-py3-none-any.whl (55 kB)\n",
            "\u001b[K     |████████████████████████████████| 55 kB 2.3 MB/s \n",
            "\u001b[?25hRequirement already satisfied: docopt>=0.6 in /usr/local/lib/python3.7/dist-packages (from pymorphy2) (0.6.2)\n",
            "Collecting pymorphy2-dicts-ru<3.0,>=2.4\n",
            "  Downloading pymorphy2_dicts_ru-2.4.417127.4579844-py2.py3-none-any.whl (8.2 MB)\n",
            "\u001b[K     |████████████████████████████████| 8.2 MB 9.4 MB/s \n",
            "\u001b[?25hCollecting dawg-python>=0.7.1\n",
            "  Downloading DAWG_Python-0.7.2-py2.py3-none-any.whl (11 kB)\n",
            "Installing collected packages: pymorphy2-dicts-ru, dawg-python, pymorphy2\n",
            "Successfully installed dawg-python-0.7.2 pymorphy2-0.9.1 pymorphy2-dicts-ru-2.4.417127.4579844\n",
            "2.7.0\n"
          ]
        }
      ]
    },
    {
      "cell_type": "code",
      "metadata": {
        "id": "tDMomty3hmdF",
        "cellView": "form"
      },
      "source": [
        "#@title Текстовые вспомогательные функции\n",
        "\n",
        "# Очистка текста\n",
        "def standardize_text(df, text_field):\n",
        "    df[text_field] = df[text_field].str.lower()\n",
        "    df[text_field] = df[text_field].str.replace(r\"http\\S+\", \"\")\n",
        "    df[text_field] = df[text_field].str.replace(r\"www\\S+\", \"\")\n",
        "    df[text_field] = df[text_field].str.replace(r\"\\[\\S+\\]\", \" \") #вставки картинок или ссылок\n",
        "    df[text_field] = df[text_field].str.replace(r\"ё\", \"е\")\n",
        "    df[text_field] = df[text_field].str.replace(r\"[^А-Яа-яA-Za-z0-9.,!?@\\\\\\-\\'\\_\\s]+\", \" \") #всё лишнее убираем\n",
        "    df[text_field] = df[text_field].str.replace(r\"[\\w.,!?@\\\\\\'\\`\\\"\\_\\-]*[0-9@]+[\\w.,!?@\\'\\`\\\"\\_\\-]*\", \" \") #всё что с цифрами или @ убираем\n",
        "    df[text_field] = df[text_field].str.replace(r\"([,.!?])[\\s\\t\\n]\", r\" \\1 \") #чтобы знаки препинания делились как отдельные слова\n",
        "    df[text_field] = df[text_field].str.replace(r\"([.!?\\|\\\\\\'\\`\\\"\\_]){2,}\", r\" \\1 \") # убрать повторяющиеся символы\n",
        "    df[text_field] = df[text_field].str.replace(r\"\\s+\", \" \")\n",
        "    df[text_field] = df[text_field].str.replace(r\"( \\.){2,}\", \" .\")\n",
        "    df[text_field] = df[text_field].str.strip()\n",
        "    return df\n",
        "\n",
        "#Лемматизация русских слов\n",
        "morph = pymorphy2.MorphAnalyzer()\n",
        "def tokenize(text):\n",
        "    words = text.split() # разбиваем текст на слова\n",
        "    res = list()\n",
        "    for word in words:\n",
        "        p = morph.parse(word)[0]\n",
        "        res.append(p.normal_form)\n",
        "    return res\n",
        "\n",
        "#нормальная форма\n",
        "def normal_form(text):\n",
        "    words = text.split() # разбиваем текст на слова\n",
        "    res = list()\n",
        "    for word in words:\n",
        "        p = morph.parse(word)[0]\n",
        "        res.append(p.normal_form)\n",
        "    return ' '.join(res)\n"
      ],
      "execution_count": null,
      "outputs": []
    },
    {
      "cell_type": "markdown",
      "metadata": {
        "id": "N0cP8ggtF51U"
      },
      "source": [
        "# Препроцессинг\n"
      ]
    },
    {
      "cell_type": "code",
      "metadata": {
        "id": "Gw0gJq4AhmkX"
      },
      "source": [
        "\n",
        "\n",
        "# file_name = 'find_assignee_010620-260421_validated.csv'\n",
        "# find_assignee = pd.read_csv(file_path + file_name, sep=';', index_col='issue_number')\n",
        "\n",
        "# # Объединяю source subject body в единый текст + лемматизация\n",
        "\n",
        "# standardized_subject = standardize_text(find_assignee, 'subject').subject.astype(str).apply(normal_form)\n",
        "# standardized_body = standardize_text(find_assignee, 'body').body.astype(str).apply(normal_form)\n",
        "\n",
        "# tokens = ['<PAD>', '<SRC>', '<ATHR>', '<SBJCT>', '<BODY>', '<END>', '<UNKNOWN>']\n",
        "# find_assignee['full_text'] = tokens[1] + ' ' + find_assignee['source'].astype(str) + ' ' \\\n",
        "#   + tokens[2] + ' ' + find_assignee['from'].astype(str) + ' ' \\\n",
        "#   + tokens[3] + ' ' + standardized_subject + ' ' \\\n",
        "#   + tokens[4] + ' ' + standardized_body + ' ' \\\n",
        "#   + tokens[5]\n",
        "# find_assignee['full_text'] = find_assignee['full_text'].str.split()\n",
        "\n",
        "# file_name = 'find_assignee_010620-260421_for_training.csv'\n",
        "# find_assignee.to_csv(file_path + file_name, sep=';')"
      ],
      "execution_count": null,
      "outputs": []
    },
    {
      "cell_type": "code",
      "metadata": {
        "colab": {
          "base_uri": "https://localhost:8080/",
          "height": 278
        },
        "id": "ixk90PAPIQI8",
        "outputId": "9c48565f-3fb7-4d3a-af7a-a5e9325259c2"
      },
      "source": [
        "#перезагрузить дф с нового файла\n",
        "file_name = 'find_assignee_010620-260421_for_training.csv'\n",
        "find_assignee = pd.read_csv(file_path + file_name, sep=';', index_col='issue_number')\n",
        "find_assignee['full_text'] = find_assignee['full_text'].apply(ast.literal_eval)\n",
        "find_assignee.head(3)\n"
      ],
      "execution_count": null,
      "outputs": [
        {
          "output_type": "execute_result",
          "data": {
            "text/html": [
              "<div>\n",
              "<style scoped>\n",
              "    .dataframe tbody tr th:only-of-type {\n",
              "        vertical-align: middle;\n",
              "    }\n",
              "\n",
              "    .dataframe tbody tr th {\n",
              "        vertical-align: top;\n",
              "    }\n",
              "\n",
              "    .dataframe thead th {\n",
              "        text-align: right;\n",
              "    }\n",
              "</style>\n",
              "<table border=\"1\" class=\"dataframe\">\n",
              "  <thead>\n",
              "    <tr style=\"text-align: right;\">\n",
              "      <th></th>\n",
              "      <th>source</th>\n",
              "      <th>from</th>\n",
              "      <th>subject</th>\n",
              "      <th>body</th>\n",
              "      <th>assignee</th>\n",
              "      <th>group</th>\n",
              "      <th>target_user</th>\n",
              "      <th>full_text</th>\n",
              "    </tr>\n",
              "    <tr>\n",
              "      <th>issue_number</th>\n",
              "      <th></th>\n",
              "      <th></th>\n",
              "      <th></th>\n",
              "      <th></th>\n",
              "      <th></th>\n",
              "      <th></th>\n",
              "      <th></th>\n",
              "      <th></th>\n",
              "    </tr>\n",
              "  </thead>\n",
              "  <tbody>\n",
              "    <tr>\n",
              "      <th>HELPDESK-1301596</th>\n",
              "      <td>helpdesk@esphere.ru</td>\n",
              "      <td>metazon@ozon.ru</td>\n",
              "      <td>ответ по заказу edi     от     юнилевер русь, ооо</td>\n",
              "      <td>поставщик  юнилевер русь, ооо  ответил по зака...</td>\n",
              "      <td>andreev.rv</td>\n",
              "      <td>edi</td>\n",
              "      <td>edi-hd</td>\n",
              "      <td>[&lt;SRC&gt;, helpdesk@esphere.ru, &lt;ATHR&gt;, metazon@o...</td>\n",
              "    </tr>\n",
              "    <tr>\n",
              "      <th>HELPDESK-1301579</th>\n",
              "      <td>jira@jiramail.esphere.ru</td>\n",
              "      <td>Elena.Aldaranova@guest.ferrero.com</td>\n",
              "      <td>загрузить recadv на</td>\n",
              "      <td>татьяна, добрый день . просьба загрузить recad...</td>\n",
              "      <td>semenova.ts</td>\n",
              "      <td>edi</td>\n",
              "      <td>edi-hd</td>\n",
              "      <td>[&lt;SRC&gt;, jira@jiramail.esphere.ru, &lt;ATHR&gt;, Elen...</td>\n",
              "    </tr>\n",
              "    <tr>\n",
              "      <th>HELPDESK-1301548</th>\n",
              "      <td>helpdesk@esphere.ru</td>\n",
              "      <td>monitoring_bp@magnit.ru</td>\n",
              "      <td>exception . отсутствует статус доставки orders...</td>\n",
              "      <td>добрый день ! направляем вам отчет по edi доку...</td>\n",
              "      <td>naumov.ya</td>\n",
              "      <td>мониторинг</td>\n",
              "      <td>usc</td>\n",
              "      <td>[&lt;SRC&gt;, helpdesk@esphere.ru, &lt;ATHR&gt;, monitorin...</td>\n",
              "    </tr>\n",
              "  </tbody>\n",
              "</table>\n",
              "</div>"
            ],
            "text/plain": [
              "                                    source  ...                                          full_text\n",
              "issue_number                                ...                                                   \n",
              "HELPDESK-1301596       helpdesk@esphere.ru  ...  [<SRC>, helpdesk@esphere.ru, <ATHR>, metazon@o...\n",
              "HELPDESK-1301579  jira@jiramail.esphere.ru  ...  [<SRC>, jira@jiramail.esphere.ru, <ATHR>, Elen...\n",
              "HELPDESK-1301548       helpdesk@esphere.ru  ...  [<SRC>, helpdesk@esphere.ru, <ATHR>, monitorin...\n",
              "\n",
              "[3 rows x 8 columns]"
            ]
          },
          "metadata": {},
          "execution_count": 3
        }
      ]
    },
    {
      "cell_type": "code",
      "metadata": {
        "id": "U5seJx6JhmwX",
        "colab": {
          "base_uri": "https://localhost:8080/"
        },
        "outputId": "c8d39915-738d-4071-c85a-a97c767c6587"
      },
      "source": [
        "# Создать словарь\n",
        "def build_vocab(tokenized_texts, \n",
        "                max_words=20_000, \n",
        "                min_words_count=3, \n",
        "                add_tech_tokens=False):\n",
        "    '''Умеет оставлять в словаре только max_words самых популярных слов. \n",
        "    min_words_count убирает редкие слова'''\n",
        "\n",
        "    all_words = [word for tokens in tokenized_texts for word in tokens]\n",
        "    vocab = {}\n",
        "    for word in all_words:\n",
        "      if word not in vocab:\n",
        "        vocab[word] = 1\n",
        "      else:\n",
        "        vocab[word] += 1\n",
        "    vocab = pd.DataFrame({'keys':vocab.keys(), 'values':vocab.values()})\n",
        "\n",
        "    #Добавляю технические слова\n",
        "    if isinstance(add_tech_tokens, (np.ndarray, list)):\n",
        "      keys = add_tech_tokens\n",
        "      values = list(range(999999,999999-len(add_tech_tokens), -1))\n",
        "      special_words = pd.DataFrame({'keys':keys, 'values':values})\n",
        "      vocab = pd.concat([vocab, special_words])\n",
        "    elif add_tech_tokens == 'def':\n",
        "      special_words = pd.DataFrame({'keys':[\"<PAD>\", \"<START>\", \"<UNKNOWN>\"], 'values':[999999,999998,999997]})\n",
        "      vocab = pd.concat([vocab, special_words])\n",
        "    \n",
        "    vocab.drop_duplicates(subset=['keys'], inplace=True, keep='last')\n",
        "    print(\"%s words total, with max vocabulary size of %s\" % (len(all_words), vocab.shape[0]))\n",
        "    vocab = vocab[vocab['values'] >= min_words_count] \\\n",
        "      .sort_values(by='values', ascending=False) \\\n",
        "      .reset_index(drop=True).copy()\n",
        "    # vocab.drop(columns='values', inplace=True)\n",
        "    vocab = vocab[:max_words]\n",
        "    print(\"Current vocabulary size is %s\" % vocab.shape[0])\n",
        "\n",
        "    vocab_idx_word_dict = vocab['keys'].to_dict()\n",
        "    vocab_word_idx_dict = dict([(value, key) for (key, value) in vocab_idx_word_dict.items()])\n",
        "\n",
        "    sentence_lengths = [len(tokens) for tokens in tokenized_texts]\n",
        "    print(\"Max sentence length is %s\" % max(sentence_lengths))\n",
        "    return vocab, vocab_word_idx_dict, vocab_idx_word_dict\n",
        "\n",
        "tokens = ['<PAD>', '<SRC>', '<ATHR>', '<SBJCT>', '<BODY>', '<END>', '<UNKNOWN>']\n",
        "VOCAB, vocab_word_idx_dict, vocab_idx_word_dict = build_vocab(find_assignee.full_text.values, add_tech_tokens=tokens)"
      ],
      "execution_count": null,
      "outputs": [
        {
          "output_type": "stream",
          "name": "stdout",
          "text": [
            "5998152 words total, with max vocabulary size of 83673\n",
            "Current vocabulary size is 20000\n",
            "Max sentence length is 3867\n"
          ]
        }
      ]
    },
    {
      "cell_type": "code",
      "metadata": {
        "id": "hMBZeQzRhmiB",
        "colab": {
          "base_uri": "https://localhost:8080/"
        },
        "outputId": "bd16bd19-1d27-4bf9-86d3-85c7eb26267d"
      },
      "source": [
        "# Кодировать целевой класс\n",
        "label_enc = LabelEncoder()\n",
        "find_assignee['class_label'] = label_enc.fit_transform(find_assignee.group)\n",
        "labels = {}\n",
        "for v, k in zip(label_enc.transform(label_enc.classes_), label_enc.classes_):\n",
        "  print(v, k)\n",
        "  labels[k] = v"
      ],
      "execution_count": null,
      "outputs": [
        {
          "output_type": "stream",
          "name": "stdout",
          "text": [
            "0 bsr\n",
            "1 eco\n",
            "2 edi\n",
            "3 edo\n",
            "4 intgr\n",
            "5 мониторинг\n",
            "6 тандер\n"
          ]
        }
      ]
    },
    {
      "cell_type": "code",
      "metadata": {
        "id": "-CFgwg2-6X9W"
      },
      "source": [
        "# Кодировать текст\n",
        "def encode_review(text, vocab_dict=vocab_word_idx_dict, pad=False):\n",
        "    'text: pd.Series'\n",
        "    idxs = [vocab_dict.get(word, vocab_dict['<UNKNOWN>']) for word in text]\n",
        "    return idxs\n",
        "\n",
        "def decode_review(encoded_text, vocab_dict=vocab_idx_word_dict):\n",
        "    return ' '.join([vocab_dict.get(i, '?') for i in encoded_text])\n",
        "\n",
        "find_assignee['encoded_text'] = find_assignee['full_text'].apply(encode_review)"
      ],
      "execution_count": null,
      "outputs": []
    },
    {
      "cell_type": "code",
      "metadata": {
        "id": "HLQm1wqH4rEF"
      },
      "source": [
        "# padding\n",
        "MAX_SEQ_LEN = 350\n",
        "\n",
        "X = tf.keras.preprocessing.sequence.pad_sequences(\n",
        "      find_assignee['encoded_text'].values,\n",
        "      value=0,\n",
        "      padding='post',\n",
        "      maxlen=MAX_SEQ_LEN)\n"
      ],
      "execution_count": null,
      "outputs": []
    },
    {
      "cell_type": "code",
      "metadata": {
        "id": "EYCDyqOL9lDC"
      },
      "source": [
        "#tts\n",
        "X_train, X_valid, y_train, y_valid = train_test_split(X, find_assignee.class_label.values, test_size=0.15, random_state=64)\n",
        "X_train, X_test, y_train, y_test = train_test_split(X_train, y_train, test_size=0.15, random_state=64)\n",
        "\n",
        "#class_weights\n",
        "weights = dict([(k,find_assignee.shape[0] / v) for (k,v) in find_assignee.groupby(by='class_label').count().group.items()])\n",
        "weights[6] = 15"
      ],
      "execution_count": null,
      "outputs": []
    },
    {
      "cell_type": "code",
      "metadata": {
        "id": "4jdBj7PH-Ru6"
      },
      "source": [
        ""
      ],
      "execution_count": null,
      "outputs": []
    },
    {
      "cell_type": "markdown",
      "metadata": {
        "id": "ldreX3tA-TiR"
      },
      "source": [
        "# обучение"
      ]
    },
    {
      "cell_type": "code",
      "metadata": {
        "id": "Lld8WBCV4rGu",
        "colab": {
          "base_uri": "https://localhost:8080/"
        },
        "outputId": "d786c52d-abbd-47ae-c78c-7089ed18aeff"
      },
      "source": [
        "EMB_SIZE = 256\n",
        "VOCAB_SIZE = VOCAB.shape[0]\n",
        "\n",
        "model = tf.keras.Sequential([\n",
        "    tf.keras.layers.Embedding(VOCAB_SIZE, EMB_SIZE),\n",
        "    tf.keras.layers.SpatialDropout1D(0.8),\n",
        "    tf.keras.layers.Bidirectional(tf.keras.layers.LSTM(EMB_SIZE, return_sequences=True, dropout=0.8)),\n",
        "    tf.keras.layers.SpatialDropout1D(0.8),\n",
        "    tf.keras.layers.Bidirectional(tf.keras.layers.LSTM(EMB_SIZE, return_sequences=True, dropout=0.8)),\n",
        "    # tf.keras.layers.SpatialDropout1D(0.8),\n",
        "    tf.keras.layers.Bidirectional(tf.keras.layers.LSTM(EMB_SIZE, dropout=0.6)),\n",
        "    tf.keras.layers.Dense(512, activation=tf.nn.relu),\n",
        "    # tf.keras.layers.Dropout(0.6),\n",
        "    tf.keras.layers.Dense(128, activation=tf.nn.relu),\n",
        "    tf.keras.layers.Dense(7, activation=tf.nn.softmax),\n",
        "])\n",
        "\n",
        "model.summary()"
      ],
      "execution_count": null,
      "outputs": [
        {
          "output_type": "stream",
          "text": [
            "Model: \"sequential\"\n",
            "_________________________________________________________________\n",
            "Layer (type)                 Output Shape              Param #   \n",
            "=================================================================\n",
            "embedding (Embedding)        (None, None, 256)         5120000   \n",
            "_________________________________________________________________\n",
            "spatial_dropout1d (SpatialDr (None, None, 256)         0         \n",
            "_________________________________________________________________\n",
            "bidirectional (Bidirectional (None, None, 512)         1050624   \n",
            "_________________________________________________________________\n",
            "spatial_dropout1d_1 (Spatial (None, None, 512)         0         \n",
            "_________________________________________________________________\n",
            "bidirectional_1 (Bidirection (None, None, 512)         1574912   \n",
            "_________________________________________________________________\n",
            "bidirectional_2 (Bidirection (None, 512)               1574912   \n",
            "_________________________________________________________________\n",
            "dense (Dense)                (None, 512)               262656    \n",
            "_________________________________________________________________\n",
            "dense_1 (Dense)              (None, 128)               65664     \n",
            "_________________________________________________________________\n",
            "dense_2 (Dense)              (None, 7)                 903       \n",
            "=================================================================\n",
            "Total params: 9,649,671\n",
            "Trainable params: 9,649,671\n",
            "Non-trainable params: 0\n",
            "_________________________________________________________________\n"
          ],
          "name": "stdout"
        }
      ]
    },
    {
      "cell_type": "code",
      "metadata": {
        "id": "_0y8n1XY4rI5"
      },
      "source": [
        "model.compile(optimizer='adam',\n",
        "              loss=tf.keras.losses.SparseCategoricalCrossentropy(),\n",
        "              metrics=['acc'])"
      ],
      "execution_count": null,
      "outputs": []
    },
    {
      "cell_type": "code",
      "metadata": {
        "id": "wT55S9Q_Os28"
      },
      "source": [
        "file_path = \"/content/drive/My Drive/saved_models/\"\n",
        "file_name = \"epoch_{epoch:02d}_val_acc_{val_acc:.2f}.hdf5\"\n",
        "filepath = file_path + file_name\n",
        "\n",
        "best_model = tf.keras.callbacks.ModelCheckpoint(\n",
        "    monitor='val_acc', \n",
        "    mode='max', \n",
        "    filepath=filepath, \n",
        "    save_best_only=True, \n",
        "    verbose=1\n",
        ")"
      ],
      "execution_count": null,
      "outputs": []
    },
    {
      "cell_type": "code",
      "metadata": {
        "id": "r_Ub0pE74rLb",
        "colab": {
          "base_uri": "https://localhost:8080/",
          "height": 687
        },
        "outputId": "5367c798-22d7-4386-b8c0-4cd3522f552e"
      },
      "source": [
        "# BATCH_SIZE = 512\n",
        "# NUM_EPOCHS = 30\n",
        "\n",
        "# history = model.fit(X_train,\n",
        "#                     y_train,\n",
        "#                     epochs=NUM_EPOCHS,\n",
        "#                     batch_size=BATCH_SIZE,\n",
        "#                     validation_data=(X_test, y_test),\n",
        "#                     verbose=1,\n",
        "#                     class_weight=weights,\n",
        "#                     callbacks=[best_model, PlotLossesCallback(), ])"
      ],
      "execution_count": null,
      "outputs": [
        {
          "output_type": "display_data",
          "data": {
            "image/png": "[encoded data removed]",
            "text/plain": [
              "<Figure size 864x576 with 2 Axes>"
            ]
          },
          "metadata": {
            "tags": []
          }
        },
        {
          "output_type": "stream",
          "text": [
            "Accuracy\n",
            "\ttraining         \t (min:    0.252, max:    0.822, cur:    0.822)\n",
            "\tvalidation       \t (min:    0.445, max:    0.798, cur:    0.792)\n",
            "Loss\n",
            "\ttraining         \t (min:    3.311, max:   10.382, cur:    3.311)\n",
            "\tvalidation       \t (min:    0.643, max:    1.350, cur:    0.672)\n"
          ],
          "name": "stdout"
        }
      ]
    },
    {
      "cell_type": "code",
      "metadata": {
        "id": "zYs0kNlJ2FYl",
        "colab": {
          "base_uri": "https://localhost:8080/"
        },
        "outputId": "dc4fc2f8-333a-4579-e495-e6e4790b8b67"
      },
      "source": [
        "file_name = \"epoch_29_val_acc_0.80.hdf5\"\n",
        "model = tf.keras.models.load_model(file_path + file_name)\n",
        "model.summary()"
      ],
      "execution_count": null,
      "outputs": [
        {
          "output_type": "stream",
          "name": "stdout",
          "text": [
            "Model: \"sequential\"\n",
            "_________________________________________________________________\n",
            " Layer (type)                Output Shape              Param #   \n",
            "=================================================================\n",
            " embedding (Embedding)       (None, None, 256)         5120000   \n",
            "                                                                 \n",
            " spatial_dropout1d (SpatialD  (None, None, 256)        0         \n",
            " ropout1D)                                                       \n",
            "                                                                 \n",
            " bidirectional (Bidirectiona  (None, None, 512)        1050624   \n",
            " l)                                                              \n",
            "                                                                 \n",
            " spatial_dropout1d_1 (Spatia  (None, None, 512)        0         \n",
            " lDropout1D)                                                     \n",
            "                                                                 \n",
            " bidirectional_1 (Bidirectio  (None, None, 512)        1574912   \n",
            " nal)                                                            \n",
            "                                                                 \n",
            " bidirectional_2 (Bidirectio  (None, 512)              1574912   \n",
            " nal)                                                            \n",
            "                                                                 \n",
            " dense (Dense)               (None, 512)               262656    \n",
            "                                                                 \n",
            " dense_1 (Dense)             (None, 128)               65664     \n",
            "                                                                 \n",
            " dense_2 (Dense)             (None, 7)                 903       \n",
            "                                                                 \n",
            "=================================================================\n",
            "Total params: 9,649,671\n",
            "Trainable params: 9,649,671\n",
            "Non-trainable params: 0\n",
            "_________________________________________________________________\n"
          ]
        }
      ]
    },
    {
      "cell_type": "markdown",
      "metadata": {
        "id": "dZdHPS-4K4UV"
      },
      "source": [
        "# Замерим скор"
      ]
    },
    {
      "cell_type": "code",
      "metadata": {
        "id": "3vdYwOCu4rU4",
        "colab": {
          "base_uri": "https://localhost:8080/",
          "height": 652
        },
        "outputId": "14dc54a9-dc66-43eb-fbf4-ca5ce7acb547"
      },
      "source": [
        "y_pred = model.predict(X_valid)\n",
        "print('accuracy score %.3f' % accuracy_score(y_valid, y_pred.argmax(axis=1)))\n",
        "plt.figure(figsize=(10, 10))\n",
        "ax = sns.heatmap(confusion_matrix(y_valid, y_pred.argmax(axis=1)), annot=True, cmap=\"Blues\", cbar=False, square=True, fmt=\"d\")\n",
        "ax.set_xticklabels(labels.keys(), rotation=20)\n",
        "ax.set_yticklabels(labels.keys(), rotation=0)\n",
        "ax.set_xlabel('Predicted values')\n",
        "ax.set_ylabel('True values');\n"
      ],
      "execution_count": null,
      "outputs": [
        {
          "output_type": "stream",
          "name": "stdout",
          "text": [
            "accuracy score 0.791\n"
          ]
        },
        {
          "output_type": "display_data",
          "data": {
            "image/png": "[encoded data removed]",
            "text/plain": [
              "<Figure size 720x720 with 1 Axes>"
            ]
          },
          "metadata": {
            "needs_background": "light"
          }
        }
      ]
    },
    {
      "cell_type": "markdown",
      "metadata": {
        "id": "iuUQqGpA5oB8"
      },
      "source": [
        "# 11.11.21 Попытка собрать примеры предсказаний\n"
      ]
    },
    {
      "cell_type": "code",
      "metadata": {
        "id": "haiePutQ5lT0"
      },
      "source": [
        "outs = pd.DataFrame({'real_group':y_valid, 'probability':np.max(y_pred, axis=1), 'predicted_group':np.argmax(y_pred, axis=1)})"
      ],
      "execution_count": null,
      "outputs": []
    },
    {
      "cell_type": "code",
      "metadata": {
        "colab": {
          "base_uri": "https://localhost:8080/",
          "height": 422
        },
        "id": "WGp6c91S5md8",
        "outputId": "4f0d7b6b-168d-495b-8a16-95fe8131f691"
      },
      "source": [
        "outs['hit'] = outs.real_group == outs.predicted_group\n",
        "outs"
      ],
      "execution_count": null,
      "outputs": [
        {
          "output_type": "execute_result",
          "data": {
            "text/html": [
              "<div>\n",
              "<style scoped>\n",
              "    .dataframe tbody tr th:only-of-type {\n",
              "        vertical-align: middle;\n",
              "    }\n",
              "\n",
              "    .dataframe tbody tr th {\n",
              "        vertical-align: top;\n",
              "    }\n",
              "\n",
              "    .dataframe thead th {\n",
              "        text-align: right;\n",
              "    }\n",
              "</style>\n",
              "<table border=\"1\" class=\"dataframe\">\n",
              "  <thead>\n",
              "    <tr style=\"text-align: right;\">\n",
              "      <th></th>\n",
              "      <th>real_group</th>\n",
              "      <th>probability</th>\n",
              "      <th>predicted_group</th>\n",
              "      <th>hit</th>\n",
              "    </tr>\n",
              "  </thead>\n",
              "  <tbody>\n",
              "    <tr>\n",
              "      <th>0</th>\n",
              "      <td>6</td>\n",
              "      <td>0.873523</td>\n",
              "      <td>6</td>\n",
              "      <td>True</td>\n",
              "    </tr>\n",
              "    <tr>\n",
              "      <th>1</th>\n",
              "      <td>3</td>\n",
              "      <td>0.697891</td>\n",
              "      <td>3</td>\n",
              "      <td>True</td>\n",
              "    </tr>\n",
              "    <tr>\n",
              "      <th>2</th>\n",
              "      <td>3</td>\n",
              "      <td>0.899834</td>\n",
              "      <td>3</td>\n",
              "      <td>True</td>\n",
              "    </tr>\n",
              "    <tr>\n",
              "      <th>3</th>\n",
              "      <td>2</td>\n",
              "      <td>0.955314</td>\n",
              "      <td>2</td>\n",
              "      <td>True</td>\n",
              "    </tr>\n",
              "    <tr>\n",
              "      <th>4</th>\n",
              "      <td>2</td>\n",
              "      <td>0.923025</td>\n",
              "      <td>4</td>\n",
              "      <td>False</td>\n",
              "    </tr>\n",
              "    <tr>\n",
              "      <th>...</th>\n",
              "      <td>...</td>\n",
              "      <td>...</td>\n",
              "      <td>...</td>\n",
              "      <td>...</td>\n",
              "    </tr>\n",
              "    <tr>\n",
              "      <th>7084</th>\n",
              "      <td>0</td>\n",
              "      <td>0.656062</td>\n",
              "      <td>5</td>\n",
              "      <td>False</td>\n",
              "    </tr>\n",
              "    <tr>\n",
              "      <th>7085</th>\n",
              "      <td>2</td>\n",
              "      <td>0.993574</td>\n",
              "      <td>2</td>\n",
              "      <td>True</td>\n",
              "    </tr>\n",
              "    <tr>\n",
              "      <th>7086</th>\n",
              "      <td>2</td>\n",
              "      <td>0.997678</td>\n",
              "      <td>2</td>\n",
              "      <td>True</td>\n",
              "    </tr>\n",
              "    <tr>\n",
              "      <th>7087</th>\n",
              "      <td>4</td>\n",
              "      <td>0.970738</td>\n",
              "      <td>4</td>\n",
              "      <td>True</td>\n",
              "    </tr>\n",
              "    <tr>\n",
              "      <th>7088</th>\n",
              "      <td>4</td>\n",
              "      <td>0.972077</td>\n",
              "      <td>4</td>\n",
              "      <td>True</td>\n",
              "    </tr>\n",
              "  </tbody>\n",
              "</table>\n",
              "<p>7089 rows × 4 columns</p>\n",
              "</div>"
            ],
            "text/plain": [
              "      real_group  probability  predicted_group    hit\n",
              "0              6     0.873523                6   True\n",
              "1              3     0.697891                3   True\n",
              "2              3     0.899834                3   True\n",
              "3              2     0.955314                2   True\n",
              "4              2     0.923025                4  False\n",
              "...          ...          ...              ...    ...\n",
              "7084           0     0.656062                5  False\n",
              "7085           2     0.993574                2   True\n",
              "7086           2     0.997678                2   True\n",
              "7087           4     0.970738                4   True\n",
              "7088           4     0.972077                4   True\n",
              "\n",
              "[7089 rows x 4 columns]"
            ]
          },
          "metadata": {},
          "execution_count": 23
        }
      ]
    },
    {
      "cell_type": "code",
      "metadata": {
        "id": "XJUEZ8Tq5mgN"
      },
      "source": [
        ""
      ],
      "execution_count": null,
      "outputs": []
    },
    {
      "cell_type": "code",
      "metadata": {
        "id": "uDJM7bea5mjS"
      },
      "source": [
        ""
      ],
      "execution_count": null,
      "outputs": []
    },
    {
      "cell_type": "code",
      "metadata": {
        "id": "zZMJEFZo5ml6"
      },
      "source": [
        ""
      ],
      "execution_count": null,
      "outputs": []
    },
    {
      "cell_type": "markdown",
      "metadata": {
        "id": "tQdQykb2aNgt"
      },
      "source": [
        "# Ввести ручную орбаботку для запросов с низкой уверенностью"
      ]
    },
    {
      "cell_type": "code",
      "metadata": {
        "colab": {
          "base_uri": "https://localhost:8080/",
          "height": 1000
        },
        "id": "2Xej-2JfN6Lt",
        "outputId": "d3a9c492-f50b-4737-d01f-0df18a69f85f"
      },
      "source": [
        "threshold = 0.8\n",
        "\n",
        "# 7 группа - на ручную обработку\n",
        "targer_group = []\n",
        "[targer_group.append(7) if i.max() <= threshold else targer_group.append(i.argmax()) for i in y_pred]\n",
        "res = pd.DataFrame({'target_group':targer_group, 'probabilities':y_pred.tolist()})\n",
        "\n",
        "print('С порогом уверенности %.2f получается из пула %d запросов отправятся на ручную обработку %d (или %.2f)' \\\n",
        "      % (threshold, \n",
        "         res.groupby('target_group').count().sum(), \n",
        "         res.groupby('target_group').count().iloc[7, 0],\n",
        "         (res.groupby('target_group').count().iloc[7, 0] / res.groupby('target_group').count().sum()) ))\n",
        "\n",
        "sns.set()\n",
        "plt.figure(figsize=(12,8))\n",
        "sns.histplot(y_pred.max(axis=1))\n",
        "plt.plot([threshold, threshold], [0, 10000], 'b-', label='threshold')\n",
        "plt.legend()\n",
        "plt.ylim(0, 2500)\n",
        "plt.show();\n",
        "\n",
        "res['true'] = y_valid\n",
        "res_auto = res.query('target_group != 7')\n",
        "print('accuracy score %.2f для уверенных предсказаний' % accuracy_score(res_auto.true.values, res_auto.target_group.values))\n",
        "res_manual = res.query('target_group == 7')\n",
        "print('accuracy score %.2f для неуверенных' % accuracy_score(res_manual.true.values, res_manual.probabilities.apply(np.argmax)))\n",
        "plt.figure(figsize=(10, 10))\n",
        "ax = sns.heatmap(confusion_matrix(res_auto.true.values, res_auto.target_group.values), annot=True, cmap=\"Blues\", cbar=False, square=True, fmt=\"d\")\n",
        "ax.set_xticklabels(labels.keys(), rotation=20)\n",
        "ax.set_yticklabels(labels.keys(), rotation=0)\n",
        "ax.set_xlabel('Predicted values')\n",
        "ax.set_ylabel('True values');\n",
        "plt.show();"
      ],
      "execution_count": null,
      "outputs": [
        {
          "output_type": "stream",
          "text": [
            "С порогом уверенности 0.80 получается из пула 7089 запросов отправятся на ручную обработку 1997 (или 0.28)\n"
          ],
          "name": "stdout"
        },
        {
          "output_type": "display_data",
          "data": {
            "image/png": "[encoded data removed]",
            "text/plain": [
              "<Figure size 864x576 with 1 Axes>"
            ]
          },
          "metadata": {
            "tags": []
          }
        },
        {
          "output_type": "stream",
          "text": [
            "accuracy score 0.90 для уверенных предсказаний\n",
            "accuracy score 0.51 для неуверенных\n"
          ],
          "name": "stdout"
        },
        {
          "output_type": "display_data",
          "data": {
            "image/png": "[encoded data removed]",
            "text/plain": [
              "<Figure size 720x720 with 1 Axes>"
            ]
          },
          "metadata": {
            "tags": []
          }
        }
      ]
    },
    {
      "cell_type": "code",
      "metadata": {
        "id": "QDEqiboSRIFD"
      },
      "source": [
        ""
      ],
      "execution_count": null,
      "outputs": []
    },
    {
      "cell_type": "markdown",
      "metadata": {
        "id": "bEUyQtf4dfwY"
      },
      "source": [
        "#Предварительный план реализации модели.\n",
        "## Запуск возможен на любой python платформе локальной или облачной\n",
        "\n",
        "1. Атворизоваться в jira по API\n",
        "2. Опросить запросы, которые нужно назначить (есть JQL для этого)\n",
        "3. Пропустить через ML модель, получить метки классов\n",
        "4. по API назначить заявки в соответствии с метками\n",
        "5. Добавить в jira поле, чтобы понимать какие уже орбаботаны:\n",
        " - назначен автоматически\n",
        " - назначен вручную\n",
        " - требует назначения\n",
        "\n",
        "Для запуска в прод:\n",
        "- протестить на некотором количестве продуктивных запросов\n",
        "- накрутить цикличный таймер выполнения\n",
        "- логирование\n",
        "- прочее по стандартам разработки\n",
        "\n",
        "Далее скорее всего нужно будет модифицировать процесс:\n",
        "- написать дообучение\n",
        "- накрутить выбор компонента\n",
        "- накрутить интеграцию с срм, чтобы смотреть к какому направлению принадлежит Клиент"
      ]
    },
    {
      "cell_type": "code",
      "metadata": {
        "id": "vM0CUlGyRIG_"
      },
      "source": [
        ""
      ],
      "execution_count": null,
      "outputs": []
    },
    {
      "cell_type": "markdown",
      "metadata": {
        "id": "dPBidDFuEB4D"
      },
      "source": [
        "Построить график зависимости certain accuracy, uncertain accuracy, manual_ratio от threshold\n",
        "\n"
      ]
    },
    {
      "cell_type": "markdown",
      "metadata": {
        "id": "x9v_vn6PNXHb"
      },
      "source": [
        "- Провести АВ тестирование 50/50\n",
        "\n"
      ]
    },
    {
      "cell_type": "code",
      "metadata": {
        "id": "-PZeN6hVRIJY"
      },
      "source": [
        ""
      ],
      "execution_count": null,
      "outputs": []
    }
  ]
}